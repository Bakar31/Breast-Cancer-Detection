{
 "cells": [
  {
   "cell_type": "code",
   "execution_count": 1,
   "id": "b73f221f",
   "metadata": {
    "execution": {
     "iopub.execute_input": "2023-02-26T18:54:06.015880Z",
     "iopub.status.busy": "2023-02-26T18:54:06.015320Z",
     "iopub.status.idle": "2023-02-26T18:56:21.355939Z",
     "shell.execute_reply": "2023-02-26T18:56:21.354175Z"
    },
    "papermill": {
     "duration": 135.353787,
     "end_time": "2023-02-26T18:56:21.359887",
     "exception": false,
     "start_time": "2023-02-26T18:54:06.006100",
     "status": "completed"
    },
    "tags": []
   },
   "outputs": [
    {
     "name": "stdout",
     "output_type": "stream",
     "text": [
      "Processing /kaggle/input/rsna-2022-whl/pylibjpeg-1.4.0-py3-none-any.whl\r\n",
      "Requirement already satisfied: numpy in /opt/conda/lib/python3.7/site-packages (from pylibjpeg==1.4.0) (1.21.6)\r\n",
      "Installing collected packages: pylibjpeg\r\n",
      "Successfully installed pylibjpeg-1.4.0\r\n",
      "\u001b[33mWARNING: Running pip as the 'root' user can result in broken permissions and conflicting behaviour with the system package manager. It is recommended to use a virtual environment instead: https://pip.pypa.io/warnings/venv\u001b[0m\u001b[33m\r\n",
      "\u001b[0m\u001b[33mWARNING: There was an error checking the latest version of pip.\u001b[0m\u001b[33m\r\n",
      "\u001b[0mProcessing /kaggle/input/rsna-2022-whl/python_gdcm-3.0.15-cp37-cp37m-manylinux_2_17_x86_64.manylinux2014_x86_64.whl\r\n",
      "Installing collected packages: python-gdcm\r\n",
      "Successfully installed python-gdcm-3.0.15\r\n",
      "\u001b[33mWARNING: Running pip as the 'root' user can result in broken permissions and conflicting behaviour with the system package manager. It is recommended to use a virtual environment instead: https://pip.pypa.io/warnings/venv\u001b[0m\u001b[33m\r\n",
      "\u001b[0m\u001b[33mWARNING: There was an error checking the latest version of pip.\u001b[0m\u001b[33m\r\n",
      "\u001b[0mProcessing /kaggle/input/opencvheadless/opencv_python_headless-4.7.0.68-cp37-abi3-manylinux_2_17_x86_64.manylinux2014_x86_64.whl\r\n",
      "Requirement already satisfied: numpy>=1.17.0 in /opt/conda/lib/python3.7/site-packages (from opencv-python-headless==4.7.0.68) (1.21.6)\r\n",
      "Installing collected packages: opencv-python-headless\r\n",
      "  Attempting uninstall: opencv-python-headless\r\n",
      "    Found existing installation: opencv-python-headless 4.5.4.60\r\n",
      "    Uninstalling opencv-python-headless-4.5.4.60:\r\n",
      "      Successfully uninstalled opencv-python-headless-4.5.4.60\r\n",
      "\u001b[31mERROR: pip's dependency resolver does not currently take into account all the packages that are installed. This behaviour is the source of the following dependency conflicts.\r\n",
      "easyocr 1.6.2 requires opencv-python-headless<=4.5.4.60, but you have opencv-python-headless 4.7.0.68 which is incompatible.\u001b[0m\u001b[31m\r\n",
      "\u001b[0mSuccessfully installed opencv-python-headless-4.7.0.68\r\n",
      "\u001b[33mWARNING: Running pip as the 'root' user can result in broken permissions and conflicting behaviour with the system package manager. It is recommended to use a virtual environment instead: https://pip.pypa.io/warnings/venv\u001b[0m\u001b[33m\r\n",
      "\u001b[0m\u001b[33mWARNING: There was an error checking the latest version of pip.\u001b[0m\u001b[33m\r\n",
      "\u001b[0mProcessing /kaggle/input/rsnamodules/dicomsdl-0.109.1-cp37-cp37m-manylinux_2_12_x86_64.manylinux2010_x86_64.whl\r\n",
      "Installing collected packages: dicomsdl\r\n",
      "Successfully installed dicomsdl-0.109.1\r\n",
      "\u001b[33mWARNING: Running pip as the 'root' user can result in broken permissions and conflicting behaviour with the system package manager. It is recommended to use a virtual environment instead: https://pip.pypa.io/warnings/venv\u001b[0m\u001b[33m\r\n",
      "\u001b[0m\u001b[33mWARNING: There was an error checking the latest version of pip.\u001b[0m\u001b[33m\r\n",
      "\u001b[0m"
     ]
    }
   ],
   "source": [
    "# !pip install /kaggle/input/rsna-2022-whl/pydicom-2.3.0-py3-none-any.whl\n",
    "!pip install /kaggle/input/rsna-2022-whl/pylibjpeg-1.4.0-py3-none-any.whl\n",
    "!pip install /kaggle/input/rsna-2022-whl/python_gdcm-3.0.15-cp37-cp37m-manylinux_2_17_x86_64.manylinux2014_x86_64.whl\n",
    "!pip install /kaggle/input/opencvheadless/opencv_python_headless-4.7.0.68-cp37-abi3-manylinux_2_17_x86_64.manylinux2014_x86_64.whl\n",
    "!pip install /kaggle/input/rsnamodules/dicomsdl-0.109.1-cp37-cp37m-manylinux_2_12_x86_64.manylinux2010_x86_64.whl "
   ]
  },
  {
   "cell_type": "code",
   "execution_count": 2,
   "id": "691e3c20",
   "metadata": {
    "execution": {
     "iopub.execute_input": "2023-02-26T18:56:21.376058Z",
     "iopub.status.busy": "2023-02-26T18:56:21.375495Z",
     "iopub.status.idle": "2023-02-26T18:56:44.377217Z",
     "shell.execute_reply": "2023-02-26T18:56:44.375593Z"
    },
    "papermill": {
     "duration": 23.013596,
     "end_time": "2023-02-26T18:56:44.380351",
     "exception": false,
     "start_time": "2023-02-26T18:56:21.366755",
     "status": "completed"
    },
    "tags": []
   },
   "outputs": [
    {
     "name": "stdout",
     "output_type": "stream",
     "text": [
      "Processing /kaggle/input/keras-cv-attention-models/keras_cv_attention_models-1.3.9-py3-none-any.whl\r\n",
      "Installing collected packages: keras-cv-attention-models\r\n",
      "Successfully installed keras-cv-attention-models-1.3.9\r\n",
      "\u001b[33mWARNING: Running pip as the 'root' user can result in broken permissions and conflicting behaviour with the system package manager. It is recommended to use a virtual environment instead: https://pip.pypa.io/warnings/venv\u001b[0m\u001b[33m\r\n",
      "\u001b[0m\u001b[33mWARNING: There was an error checking the latest version of pip.\u001b[0m\u001b[33m\r\n",
      "\u001b[0m"
     ]
    }
   ],
   "source": [
    "!pip install --no-deps /kaggle/input/keras-cv-attention-models/keras_cv_attention_models-1.3.9-py3-none-any.whl"
   ]
  },
  {
   "cell_type": "code",
   "execution_count": 3,
   "id": "81ad4558",
   "metadata": {
    "execution": {
     "iopub.execute_input": "2023-02-26T18:56:44.396266Z",
     "iopub.status.busy": "2023-02-26T18:56:44.395664Z",
     "iopub.status.idle": "2023-02-26T18:56:52.923717Z",
     "shell.execute_reply": "2023-02-26T18:56:52.922253Z"
    },
    "papermill": {
     "duration": 8.539708,
     "end_time": "2023-02-26T18:56:52.926703",
     "exception": false,
     "start_time": "2023-02-26T18:56:44.386995",
     "status": "completed"
    },
    "tags": []
   },
   "outputs": [],
   "source": [
    "import os\n",
    "import cv2\n",
    "import glob\n",
    "import numpy as np\n",
    "import pandas as pd\n",
    "from tqdm import tqdm\n",
    "import pydicom\n",
    "import tensorflow as tf\n",
    "import tensorflow_addons as tfa\n",
    "\n",
    "import warnings\n",
    "warnings.filterwarnings('ignore')"
   ]
  },
  {
   "cell_type": "code",
   "execution_count": 4,
   "id": "76750f36",
   "metadata": {
    "execution": {
     "iopub.execute_input": "2023-02-26T18:56:52.943950Z",
     "iopub.status.busy": "2023-02-26T18:56:52.941653Z",
     "iopub.status.idle": "2023-02-26T18:56:53.112805Z",
     "shell.execute_reply": "2023-02-26T18:56:53.111341Z"
    },
    "papermill": {
     "duration": 0.18242,
     "end_time": "2023-02-26T18:56:53.115796",
     "exception": false,
     "start_time": "2023-02-26T18:56:52.933376",
     "status": "completed"
    },
    "tags": []
   },
   "outputs": [],
   "source": [
    "train_df = pd.read_csv(\"/kaggle/input/rsna-breast-cancer-detection/train.csv\")\n",
    "test_df = pd.read_csv(\"/kaggle/input/rsna-breast-cancer-detection/test.csv\")\n",
    "\n",
    "test_dir = '/kaggle/input/rsna-breast-cancer-detection/test_images/'"
   ]
  },
  {
   "cell_type": "code",
   "execution_count": 5,
   "id": "d51cc147",
   "metadata": {
    "execution": {
     "iopub.execute_input": "2023-02-26T18:56:53.131275Z",
     "iopub.status.busy": "2023-02-26T18:56:53.130146Z",
     "iopub.status.idle": "2023-02-26T18:56:53.180168Z",
     "shell.execute_reply": "2023-02-26T18:56:53.179199Z"
    },
    "papermill": {
     "duration": 0.060998,
     "end_time": "2023-02-26T18:56:53.183150",
     "exception": false,
     "start_time": "2023-02-26T18:56:53.122152",
     "status": "completed"
    },
    "tags": []
   },
   "outputs": [
    {
     "name": "stdout",
     "output_type": "stream",
     "text": [
      "Number of devices : 1\n"
     ]
    }
   ],
   "source": [
    "strategy = tf.distribute.MirroredStrategy()\n",
    "print(f\"Number of devices : {strategy.num_replicas_in_sync}\")"
   ]
  },
  {
   "cell_type": "code",
   "execution_count": 6,
   "id": "6a0e9dee",
   "metadata": {
    "execution": {
     "iopub.execute_input": "2023-02-26T18:56:53.198517Z",
     "iopub.status.busy": "2023-02-26T18:56:53.197631Z",
     "iopub.status.idle": "2023-02-26T18:56:53.250885Z",
     "shell.execute_reply": "2023-02-26T18:56:53.249179Z"
    },
    "papermill": {
     "duration": 0.064269,
     "end_time": "2023-02-26T18:56:53.253787",
     "exception": false,
     "start_time": "2023-02-26T18:56:53.189518",
     "status": "completed"
    },
    "tags": []
   },
   "outputs": [],
   "source": [
    "from keras_cv_attention_models import convnext, caformer"
   ]
  },
  {
   "cell_type": "code",
   "execution_count": 7,
   "id": "b78d326e",
   "metadata": {
    "execution": {
     "iopub.execute_input": "2023-02-26T18:56:53.268694Z",
     "iopub.status.busy": "2023-02-26T18:56:53.268154Z",
     "iopub.status.idle": "2023-02-26T18:56:53.335764Z",
     "shell.execute_reply": "2023-02-26T18:56:53.334187Z"
    },
    "papermill": {
     "duration": 0.078633,
     "end_time": "2023-02-26T18:56:53.338782",
     "exception": false,
     "start_time": "2023-02-26T18:56:53.260149",
     "status": "completed"
    },
    "tags": []
   },
   "outputs": [],
   "source": [
    "from tensorflow import keras\n",
    "class pFBeta(keras.metrics.Metric):\n",
    "    def __init__(self, beta=1, epsilon=1e-5, name=\"pF1\", **kwargs):\n",
    "        super().__init__(name=name, **kwargs)\n",
    "        self.beta = beta  # when beta=1, metric is pF1\n",
    "        self.epsilon = epsilon\n",
    "        self.pos = self.add_weight(name=\"pos\", initializer=\"zeros\")\n",
    "        self.ctp = self.add_weight(name=\"ctp\", initializer=\"zeros\")\n",
    "        self.cfp = self.add_weight(name='cfp', initializer=\"zeros\")\n",
    "        \n",
    "    def update_state(self, y_true, y_pred, sample_weight=None):\n",
    "        y_true = tf.cast(y_true, tf.float32)\n",
    "        y_pred = tf.clip_by_value(y_pred, 0, 1)\n",
    "        pos = tf.reduce_sum(y_true)\n",
    "        ctp = tf.reduce_sum(y_pred[y_true==1])\n",
    "        cfp = tf.reduce_sum(y_pred[y_true==0])\n",
    "        self.pos.assign_add(pos)\n",
    "        self.ctp.assign_add(ctp)\n",
    "        self.cfp.assign_add(cfp)\n",
    "    \n",
    "    def result(self):\n",
    "        beta_squared = self.beta * self.beta\n",
    "        c_precision = self.ctp / (self.ctp + self.cfp + self.epsilon)\n",
    "        c_recall = self.ctp / (self.pos + self.epsilon)\n",
    "        result = (1 + beta_squared) * c_precision * c_recall / (beta_squared * c_precision + c_recall)\n",
    "        return tf.cond(c_precision >0 and c_recall >0, lambda: result, lambda: 0.0)\n",
    "    \n",
    "    def reset_state(self):\n",
    "        self.pos.assign(0)\n",
    "        self.ctp.assign(0)\n",
    "        self.cfp.assign(0)\n",
    "        \n",
    "pf1 = pFBeta(name=\"pF1\")\n",
    "f1 = tfa.metrics.F1Score(num_classes=1, threshold=0.5)\n",
    "auc = keras.metrics.AUC(name=\"auc\")"
   ]
  },
  {
   "cell_type": "code",
   "execution_count": 8,
   "id": "5fc9458f",
   "metadata": {
    "execution": {
     "iopub.execute_input": "2023-02-26T18:56:53.354205Z",
     "iopub.status.busy": "2023-02-26T18:56:53.353098Z",
     "iopub.status.idle": "2023-02-26T18:57:00.108423Z",
     "shell.execute_reply": "2023-02-26T18:57:00.106562Z"
    },
    "papermill": {
     "duration": 6.766815,
     "end_time": "2023-02-26T18:57:00.112027",
     "exception": false,
     "start_time": "2023-02-26T18:56:53.345212",
     "status": "completed"
    },
    "tags": []
   },
   "outputs": [],
   "source": [
    "custom_objects = {'pFBeta': pFBeta, 'auc': auc}\n",
    "model = tf.keras.models.load_model('/kaggle/input/rnsa-breast-weight2/rsna_with_roi_model_ConvNeXtTiny_imagenet_fold1.h5', custom_objects=custom_objects)"
   ]
  },
  {
   "cell_type": "code",
   "execution_count": 9,
   "id": "2ecf9c57",
   "metadata": {
    "execution": {
     "iopub.execute_input": "2023-02-26T18:57:00.129465Z",
     "iopub.status.busy": "2023-02-26T18:57:00.129057Z",
     "iopub.status.idle": "2023-02-26T18:57:00.134735Z",
     "shell.execute_reply": "2023-02-26T18:57:00.133484Z"
    },
    "papermill": {
     "duration": 0.018763,
     "end_time": "2023-02-26T18:57:00.137698",
     "exception": false,
     "start_time": "2023-02-26T18:57:00.118935",
     "status": "completed"
    },
    "tags": []
   },
   "outputs": [],
   "source": [
    "# model.summary()"
   ]
  },
  {
   "cell_type": "code",
   "execution_count": 10,
   "id": "46a5962a",
   "metadata": {
    "execution": {
     "iopub.execute_input": "2023-02-26T18:57:00.153629Z",
     "iopub.status.busy": "2023-02-26T18:57:00.153125Z",
     "iopub.status.idle": "2023-02-26T18:57:00.178484Z",
     "shell.execute_reply": "2023-02-26T18:57:00.177175Z"
    },
    "papermill": {
     "duration": 0.036876,
     "end_time": "2023-02-26T18:57:00.181501",
     "exception": false,
     "start_time": "2023-02-26T18:57:00.144625",
     "status": "completed"
    },
    "tags": []
   },
   "outputs": [
    {
     "data": {
      "text/html": [
       "<div>\n",
       "<style scoped>\n",
       "    .dataframe tbody tr th:only-of-type {\n",
       "        vertical-align: middle;\n",
       "    }\n",
       "\n",
       "    .dataframe tbody tr th {\n",
       "        vertical-align: top;\n",
       "    }\n",
       "\n",
       "    .dataframe thead th {\n",
       "        text-align: right;\n",
       "    }\n",
       "</style>\n",
       "<table border=\"1\" class=\"dataframe\">\n",
       "  <thead>\n",
       "    <tr style=\"text-align: right;\">\n",
       "      <th></th>\n",
       "      <th>site_id</th>\n",
       "      <th>patient_id</th>\n",
       "      <th>image_id</th>\n",
       "      <th>laterality</th>\n",
       "      <th>view</th>\n",
       "      <th>age</th>\n",
       "      <th>implant</th>\n",
       "      <th>machine_id</th>\n",
       "      <th>prediction_id</th>\n",
       "    </tr>\n",
       "  </thead>\n",
       "  <tbody>\n",
       "    <tr>\n",
       "      <th>0</th>\n",
       "      <td>2</td>\n",
       "      <td>10008</td>\n",
       "      <td>736471439</td>\n",
       "      <td>L</td>\n",
       "      <td>MLO</td>\n",
       "      <td>81</td>\n",
       "      <td>0</td>\n",
       "      <td>21</td>\n",
       "      <td>10008_L</td>\n",
       "    </tr>\n",
       "    <tr>\n",
       "      <th>1</th>\n",
       "      <td>2</td>\n",
       "      <td>10008</td>\n",
       "      <td>1591370361</td>\n",
       "      <td>L</td>\n",
       "      <td>CC</td>\n",
       "      <td>81</td>\n",
       "      <td>0</td>\n",
       "      <td>21</td>\n",
       "      <td>10008_L</td>\n",
       "    </tr>\n",
       "    <tr>\n",
       "      <th>2</th>\n",
       "      <td>2</td>\n",
       "      <td>10008</td>\n",
       "      <td>68070693</td>\n",
       "      <td>R</td>\n",
       "      <td>MLO</td>\n",
       "      <td>81</td>\n",
       "      <td>0</td>\n",
       "      <td>21</td>\n",
       "      <td>10008_R</td>\n",
       "    </tr>\n",
       "    <tr>\n",
       "      <th>3</th>\n",
       "      <td>2</td>\n",
       "      <td>10008</td>\n",
       "      <td>361203119</td>\n",
       "      <td>R</td>\n",
       "      <td>CC</td>\n",
       "      <td>81</td>\n",
       "      <td>0</td>\n",
       "      <td>21</td>\n",
       "      <td>10008_R</td>\n",
       "    </tr>\n",
       "  </tbody>\n",
       "</table>\n",
       "</div>"
      ],
      "text/plain": [
       "   site_id  patient_id    image_id laterality view  age  implant  machine_id  \\\n",
       "0        2       10008   736471439          L  MLO   81        0          21   \n",
       "1        2       10008  1591370361          L   CC   81        0          21   \n",
       "2        2       10008    68070693          R  MLO   81        0          21   \n",
       "3        2       10008   361203119          R   CC   81        0          21   \n",
       "\n",
       "  prediction_id  \n",
       "0       10008_L  \n",
       "1       10008_L  \n",
       "2       10008_R  \n",
       "3       10008_R  "
      ]
     },
     "execution_count": 10,
     "metadata": {},
     "output_type": "execute_result"
    }
   ],
   "source": [
    "test_df.head()"
   ]
  },
  {
   "cell_type": "code",
   "execution_count": 11,
   "id": "ac405539",
   "metadata": {
    "execution": {
     "iopub.execute_input": "2023-02-26T18:57:00.197575Z",
     "iopub.status.busy": "2023-02-26T18:57:00.197082Z",
     "iopub.status.idle": "2023-02-26T18:57:00.220451Z",
     "shell.execute_reply": "2023-02-26T18:57:00.219203Z"
    },
    "papermill": {
     "duration": 0.034811,
     "end_time": "2023-02-26T18:57:00.223328",
     "exception": false,
     "start_time": "2023-02-26T18:57:00.188517",
     "status": "completed"
    },
    "tags": []
   },
   "outputs": [
    {
     "data": {
      "text/html": [
       "<div>\n",
       "<style scoped>\n",
       "    .dataframe tbody tr th:only-of-type {\n",
       "        vertical-align: middle;\n",
       "    }\n",
       "\n",
       "    .dataframe tbody tr th {\n",
       "        vertical-align: top;\n",
       "    }\n",
       "\n",
       "    .dataframe thead th {\n",
       "        text-align: right;\n",
       "    }\n",
       "</style>\n",
       "<table border=\"1\" class=\"dataframe\">\n",
       "  <thead>\n",
       "    <tr style=\"text-align: right;\">\n",
       "      <th></th>\n",
       "      <th>site_id</th>\n",
       "      <th>patient_id</th>\n",
       "      <th>image_id</th>\n",
       "      <th>laterality</th>\n",
       "      <th>view</th>\n",
       "      <th>age</th>\n",
       "      <th>implant</th>\n",
       "      <th>machine_id</th>\n",
       "      <th>prediction_id</th>\n",
       "      <th>image_path</th>\n",
       "    </tr>\n",
       "  </thead>\n",
       "  <tbody>\n",
       "    <tr>\n",
       "      <th>0</th>\n",
       "      <td>2</td>\n",
       "      <td>10008</td>\n",
       "      <td>736471439</td>\n",
       "      <td>L</td>\n",
       "      <td>MLO</td>\n",
       "      <td>81</td>\n",
       "      <td>0</td>\n",
       "      <td>21</td>\n",
       "      <td>10008_L</td>\n",
       "      <td>/kaggle/input/rsna-breast-cancer-detection/tes...</td>\n",
       "    </tr>\n",
       "    <tr>\n",
       "      <th>1</th>\n",
       "      <td>2</td>\n",
       "      <td>10008</td>\n",
       "      <td>1591370361</td>\n",
       "      <td>L</td>\n",
       "      <td>CC</td>\n",
       "      <td>81</td>\n",
       "      <td>0</td>\n",
       "      <td>21</td>\n",
       "      <td>10008_L</td>\n",
       "      <td>/kaggle/input/rsna-breast-cancer-detection/tes...</td>\n",
       "    </tr>\n",
       "    <tr>\n",
       "      <th>2</th>\n",
       "      <td>2</td>\n",
       "      <td>10008</td>\n",
       "      <td>68070693</td>\n",
       "      <td>R</td>\n",
       "      <td>MLO</td>\n",
       "      <td>81</td>\n",
       "      <td>0</td>\n",
       "      <td>21</td>\n",
       "      <td>10008_R</td>\n",
       "      <td>/kaggle/input/rsna-breast-cancer-detection/tes...</td>\n",
       "    </tr>\n",
       "    <tr>\n",
       "      <th>3</th>\n",
       "      <td>2</td>\n",
       "      <td>10008</td>\n",
       "      <td>361203119</td>\n",
       "      <td>R</td>\n",
       "      <td>CC</td>\n",
       "      <td>81</td>\n",
       "      <td>0</td>\n",
       "      <td>21</td>\n",
       "      <td>10008_R</td>\n",
       "      <td>/kaggle/input/rsna-breast-cancer-detection/tes...</td>\n",
       "    </tr>\n",
       "  </tbody>\n",
       "</table>\n",
       "</div>"
      ],
      "text/plain": [
       "   site_id  patient_id    image_id laterality view  age  implant  machine_id  \\\n",
       "0        2       10008   736471439          L  MLO   81        0          21   \n",
       "1        2       10008  1591370361          L   CC   81        0          21   \n",
       "2        2       10008    68070693          R  MLO   81        0          21   \n",
       "3        2       10008   361203119          R   CC   81        0          21   \n",
       "\n",
       "  prediction_id                                         image_path  \n",
       "0       10008_L  /kaggle/input/rsna-breast-cancer-detection/tes...  \n",
       "1       10008_L  /kaggle/input/rsna-breast-cancer-detection/tes...  \n",
       "2       10008_R  /kaggle/input/rsna-breast-cancer-detection/tes...  \n",
       "3       10008_R  /kaggle/input/rsna-breast-cancer-detection/tes...  "
      ]
     },
     "execution_count": 11,
     "metadata": {},
     "output_type": "execute_result"
    }
   ],
   "source": [
    "# test = test_df[['patient_id', 'image_id', 'cancer']]\n",
    "test_df['image_path'] = test_df.apply(lambda x: test_dir + str(x.patient_id) + '/' + str(x.image_id) + '.dcm', axis=1)\n",
    "test_df.head()"
   ]
  },
  {
   "cell_type": "code",
   "execution_count": 12,
   "id": "4078ca92",
   "metadata": {
    "execution": {
     "iopub.execute_input": "2023-02-26T18:57:00.239654Z",
     "iopub.status.busy": "2023-02-26T18:57:00.239220Z",
     "iopub.status.idle": "2023-02-26T18:57:00.250874Z",
     "shell.execute_reply": "2023-02-26T18:57:00.249907Z"
    },
    "papermill": {
     "duration": 0.023191,
     "end_time": "2023-02-26T18:57:00.253895",
     "exception": false,
     "start_time": "2023-02-26T18:57:00.230704",
     "status": "completed"
    },
    "tags": []
   },
   "outputs": [],
   "source": [
    "import dicomsdl as dicoml\n",
    "from tqdm import tqdm"
   ]
  },
  {
   "cell_type": "code",
   "execution_count": 13,
   "id": "3b0675f0",
   "metadata": {
    "execution": {
     "iopub.execute_input": "2023-02-26T18:57:00.270776Z",
     "iopub.status.busy": "2023-02-26T18:57:00.269709Z",
     "iopub.status.idle": "2023-02-26T18:57:00.275873Z",
     "shell.execute_reply": "2023-02-26T18:57:00.274390Z"
    },
    "papermill": {
     "duration": 0.01769,
     "end_time": "2023-02-26T18:57:00.278861",
     "exception": false,
     "start_time": "2023-02-26T18:57:00.261171",
     "status": "completed"
    },
    "tags": []
   },
   "outputs": [],
   "source": [
    "# # import time\n",
    "# # start_time = time.time()\n",
    "\n",
    "# size = 512\n",
    "# batch_size = 4  # adjust this based on your system's capabilities\n",
    "# preds = []\n",
    "\n",
    "# for i in range(0, len(test_df), batch_size):\n",
    "#     batch_paths = test_df.image_path[i:i+batch_size]\n",
    "#     batch_images = []\n",
    "\n",
    "#     for f in batch_paths:\n",
    "#         dicom = dicoml.open(f)\n",
    "#         img = dicom.pixelData()\n",
    "#         img = (img - img.min()) / (img.max() - img.min())\n",
    "#         if dicom.getPixelDataInfo()['PhotometricInterpretation'] == \"MONOCHROME1\":\n",
    "#             img = 1 - img\n",
    "\n",
    "#         image = (img * 255).astype(np.uint8)\n",
    "#         img = cv2.resize(image, (size, size))\n",
    "#         img = np.stack((img,)*3, axis=-1)\n",
    "#         batch_images.append(img)\n",
    "\n",
    "#     batch_preds = model.predict(np.array(batch_images)).flatten()\n",
    "#     preds.extend(batch_preds)\n",
    "# print(batch_preds)\n",
    "# # print(time.time() - start_time)"
   ]
  },
  {
   "cell_type": "code",
   "execution_count": 14,
   "id": "4f8ee513",
   "metadata": {
    "execution": {
     "iopub.execute_input": "2023-02-26T18:57:00.295748Z",
     "iopub.status.busy": "2023-02-26T18:57:00.295355Z",
     "iopub.status.idle": "2023-02-26T18:57:00.309348Z",
     "shell.execute_reply": "2023-02-26T18:57:00.307870Z"
    },
    "papermill": {
     "duration": 0.025756,
     "end_time": "2023-02-26T18:57:00.312139",
     "exception": false,
     "start_time": "2023-02-26T18:57:00.286383",
     "status": "completed"
    },
    "tags": []
   },
   "outputs": [],
   "source": [
    "def extract_roi(image):\n",
    "    if len(image.shape) > 2:\n",
    "        gray = cv2.cvtColor(image, cv2.COLOR_BGR2GRAY).astype(np.uint8)\n",
    "    else:\n",
    "        gray = image.astype(np.uint8)\n",
    "\n",
    "#     ret, gray = cv2.threshold(gray, 50, 255, cv2.THRESH_BINARY_INV)\n",
    "#     gray = cv2.morphologyEx(gray, cv2.MORPH_OPEN, cv2.getStructuringElement(cv2.MORPH_ELLIPSE, (128, 128)))\n",
    "#     gray = cv2.bitwise_not(gray)\n",
    "    \n",
    "    contours, hierarchy = cv2.findContours(gray, cv2.RETR_TREE, cv2.CHAIN_APPROX_SIMPLE)\n",
    "    contour = max(contours, key = cv2.contourArea)\n",
    "    \n",
    "    x, y, w, h = cv2.boundingRect(contour)\n",
    "    roi = image[y: y + h, x: x + w]\n",
    "\n",
    "    return roi\n",
    "\n",
    "\n",
    "def resize_image(image, width=None, height=None, inter=cv2.INTER_LINEAR):\n",
    "    (h, w) = image.shape[:2]\n",
    "\n",
    "    if width is None and height is None:\n",
    "        return image\n",
    "\n",
    "    if width is None:\n",
    "        r = height / float(h)\n",
    "        dim = (int(w * r), height)    \n",
    "    else:\n",
    "        r = width / float(w)\n",
    "        dim = (width, int(h * r))\n",
    "\n",
    "    image = cv2.resize(image, dim, interpolation=inter)\n",
    "\n",
    "    return image\n",
    "\n",
    "\n",
    "def read_dicom(path, image_size=None, voi_lut=True, fix_monochrome=True, keep_aspect_ratio=True, crop_roi=True):\n",
    "\n",
    "    dicom = dicoml.open(str(path))\n",
    "    data = dicom.pixelData()\n",
    "\n",
    "    if fix_monochrome and dicom.PhotometricInterpretation == 'MONOCHROME1':\n",
    "        data = np.amax(data) - data\n",
    "    \n",
    "    if crop_roi:\n",
    "        data = extract_roi(data)\n",
    "        \n",
    "    data = (data - data.min()) / (data.max() - data.min())\n",
    "    data = (data * 255).astype(np.uint8)\n",
    "#     data = cv2.cvtColor(data, cv2.COLOR_GRAY2RGB)\n",
    "    data = cv2.resize(data, (224, 224))\n",
    "    data = np.stack((data,)*3, axis=-1)\n",
    "\n",
    "    return data"
   ]
  },
  {
   "cell_type": "code",
   "execution_count": 15,
   "id": "e2f06fa4",
   "metadata": {
    "execution": {
     "iopub.execute_input": "2023-02-26T18:57:00.327952Z",
     "iopub.status.busy": "2023-02-26T18:57:00.327405Z",
     "iopub.status.idle": "2023-02-26T18:57:07.563127Z",
     "shell.execute_reply": "2023-02-26T18:57:07.560718Z"
    },
    "papermill": {
     "duration": 7.247137,
     "end_time": "2023-02-26T18:57:07.566207",
     "exception": false,
     "start_time": "2023-02-26T18:57:00.319070",
     "status": "completed"
    },
    "tags": []
   },
   "outputs": [
    {
     "name": "stdout",
     "output_type": "stream",
     "text": [
      "[0.03318155 0.05406421 0.02383739 0.01932296]\n"
     ]
    }
   ],
   "source": [
    "# import time\n",
    "# start_time = time.time()\n",
    "\n",
    "batch_size = 4  # adjust this based on your system's capabilities\n",
    "preds = []\n",
    "\n",
    "image_size = 224\n",
    "voi_lut = False\n",
    "fix_monochrome = True\n",
    "keep_aspect_ratio = False\n",
    "crop_roi = True\n",
    "\n",
    "for i in range(0, len(test_df), batch_size):\n",
    "    batch_paths = test_df.image_path[i:i+batch_size]\n",
    "    batch_images = []\n",
    "\n",
    "    for path in batch_paths:\n",
    "        img = read_dicom(path, image_size, voi_lut, fix_monochrome, keep_aspect_ratio, crop_roi)\n",
    "        batch_images.append(img)\n",
    "\n",
    "    batch_preds = model.predict(np.array(batch_images)).flatten()\n",
    "    preds.extend(batch_preds)\n",
    "print(batch_preds)\n",
    "# print(time.time() - start_time)"
   ]
  },
  {
   "cell_type": "code",
   "execution_count": 16,
   "id": "87103d90",
   "metadata": {
    "execution": {
     "iopub.execute_input": "2023-02-26T18:57:07.582703Z",
     "iopub.status.busy": "2023-02-26T18:57:07.582205Z",
     "iopub.status.idle": "2023-02-26T18:57:07.617036Z",
     "shell.execute_reply": "2023-02-26T18:57:07.616038Z"
    },
    "papermill": {
     "duration": 0.046259,
     "end_time": "2023-02-26T18:57:07.619492",
     "exception": false,
     "start_time": "2023-02-26T18:57:07.573233",
     "status": "completed"
    },
    "tags": []
   },
   "outputs": [
    {
     "data": {
      "text/html": [
       "<div>\n",
       "<style scoped>\n",
       "    .dataframe tbody tr th:only-of-type {\n",
       "        vertical-align: middle;\n",
       "    }\n",
       "\n",
       "    .dataframe tbody tr th {\n",
       "        vertical-align: top;\n",
       "    }\n",
       "\n",
       "    .dataframe thead th {\n",
       "        text-align: right;\n",
       "    }\n",
       "</style>\n",
       "<table border=\"1\" class=\"dataframe\">\n",
       "  <thead>\n",
       "    <tr style=\"text-align: right;\">\n",
       "      <th></th>\n",
       "      <th>prediction_id</th>\n",
       "      <th>cancer</th>\n",
       "    </tr>\n",
       "  </thead>\n",
       "  <tbody>\n",
       "    <tr>\n",
       "      <th>0</th>\n",
       "      <td>10008_L</td>\n",
       "      <td>0</td>\n",
       "    </tr>\n",
       "    <tr>\n",
       "      <th>1</th>\n",
       "      <td>10008_R</td>\n",
       "      <td>0</td>\n",
       "    </tr>\n",
       "  </tbody>\n",
       "</table>\n",
       "</div>"
      ],
      "text/plain": [
       "  prediction_id  cancer\n",
       "0       10008_L       0\n",
       "1       10008_R       0"
      ]
     },
     "execution_count": 16,
     "metadata": {},
     "output_type": "execute_result"
    }
   ],
   "source": [
    "sub = pd.DataFrame()\n",
    "sub['prediction_id'] = test_df.prediction_id\n",
    "sub['cancer'] = preds\n",
    "sub = sub.groupby(\"prediction_id\").mean().reset_index()\n",
    "sub[\"cancer\"] = (sub[\"cancer\"] > 0.4).astype(int)\n",
    "sub.to_csv('submission.csv', index= False)\n",
    "sub.head()"
   ]
  }
 ],
 "metadata": {
  "kernelspec": {
   "display_name": "Python 3",
   "language": "python",
   "name": "python3"
  },
  "language_info": {
   "codemirror_mode": {
    "name": "ipython",
    "version": 3
   },
   "file_extension": ".py",
   "mimetype": "text/x-python",
   "name": "python",
   "nbconvert_exporter": "python",
   "pygments_lexer": "ipython3",
   "version": "3.7.12"
  },
  "papermill": {
   "default_parameters": {},
   "duration": 195.963446,
   "end_time": "2023-02-26T18:57:10.556203",
   "environment_variables": {},
   "exception": null,
   "input_path": "__notebook__.ipynb",
   "output_path": "__notebook__.ipynb",
   "parameters": {},
   "start_time": "2023-02-26T18:53:54.592757",
   "version": "2.3.4"
  }
 },
 "nbformat": 4,
 "nbformat_minor": 5
}
